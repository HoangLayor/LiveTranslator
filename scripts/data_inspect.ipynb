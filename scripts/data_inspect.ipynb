{
 "cells": [
  {
   "cell_type": "code",
   "execution_count": 1,
   "metadata": {},
   "outputs": [],
   "source": [
    "import os\n",
    "import time\n",
    "from tqdm import tqdm\n",
    "import json"
   ]
  },
  {
   "cell_type": "code",
   "execution_count": 2,
   "metadata": {},
   "outputs": [],
   "source": [
    "import sys\n",
    "sys.path.append(\"../experiments\")"
   ]
  },
  {
   "cell_type": "markdown",
   "metadata": {},
   "source": [
    "# Load TestData"
   ]
  },
  {
   "cell_type": "code",
   "execution_count": 4,
   "metadata": {},
   "outputs": [],
   "source": [
    "from MyDataset import TransDataset"
   ]
  },
  {
   "cell_type": "code",
   "execution_count": 5,
   "metadata": {},
   "outputs": [],
   "source": [
    "data_dir = \"../dataset/\"\n",
    "os.makedirs(data_dir, exist_ok=True)\n",
    "\n",
    "ru_path = f\"{data_dir}/OpenSubtitles.ru-vi.ru\"\n",
    "vi_path = f\"{data_dir}/OpenSubtitles.ru-vi.vi\"\n",
    "\n",
    "myDataset = TransDataset(ru_path, vi_path, tokenizer=None)"
   ]
  },
  {
   "cell_type": "code",
   "execution_count": 6,
   "metadata": {},
   "outputs": [],
   "source": [
    "sources = myDataset.sources\n",
    "targets = myDataset.targets"
   ]
  },
  {
   "cell_type": "code",
   "execution_count": 7,
   "metadata": {},
   "outputs": [
    {
     "data": {
      "text/plain": [
       "(['В предыдущих сериях... Хочешь позвонить папе?',\n",
       "  'Да, хочу сказать ему, что я в порядке.',\n",
       "  'Хорошо.',\n",
       "  'Лиззи, остерегайся своего мужа.',\n",
       "  'Я могу подвести тебя к истине.',\n",
       "  'Но не могу заставить поверить в неё.',\n",
       "  'Она представляется как Джолин Паркер.',\n",
       "  'Элизабет Кин тебе не жена, а цель.',\n",
       "  'Ты пугал меня тем, что расскажешь мне правду о моём муже со дня нашего знакомства, и теперь я готова слушать.',\n",
       "  'Единственное, что сейчас важно, это непосредственная угроза- твой муж. И надо разобраться, кто он и на кого работает.'],\n",
       " ['Trong phần trước của phim',\n",
       "  '- Cháu muốn gọi cho bố hả? - Vâng, cháu muốn nói với bố là cháu vẫn ổn.',\n",
       "  'Được rồi.',\n",
       "  'Lizzy... Hãy cẩn thận với chồng cô.',\n",
       "  'Tôi chỉ có thể dẫn dắt cô tìm ra sự thật',\n",
       "  'Tôi không thể khiến cô tin điều đó.',\n",
       "  'Cô ta tự gọi cho mình Jolene Parker.',\n",
       "  'Elizabeth Keen không phải vợ anh, cô ta là mục tiêu của anh.',\n",
       "  'Ông đã từng cảnh báo tôi những sự thật về chồng tôi ngay từ ngày đầu tiên gặp ông giờ tôi sẵn sàng lắng nghe rồi đây.',\n",
       "  'Ngay lúc này, điều quan trọng nhất đó là điều tra ngay lập tức chồng của cô xem anh ta là ai và anh ta làm việc cho ai'])"
      ]
     },
     "execution_count": 7,
     "metadata": {},
     "output_type": "execute_result"
    }
   ],
   "source": [
    "sources[:10], targets[:10]"
   ]
  },
  {
   "cell_type": "code",
   "execution_count": null,
   "metadata": {},
   "outputs": [],
   "source": []
  }
 ],
 "metadata": {
  "language_info": {
   "name": "python"
  }
 },
 "nbformat": 4,
 "nbformat_minor": 2
}
